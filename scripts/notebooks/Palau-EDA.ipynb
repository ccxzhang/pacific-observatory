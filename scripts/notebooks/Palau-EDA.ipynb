{
 "cells": [
  {
   "cell_type": "code",
   "execution_count": 1,
   "id": "5895ad87",
   "metadata": {},
   "outputs": [],
   "source": [
    "import os\n",
    "import pandas as pd\n",
    "import numpy as np\n",
    "import seaborn as sns\n",
    "os.chdir(\"../\")"
   ]
  },
  {
   "cell_type": "markdown",
   "id": "cfe4aa79",
   "metadata": {},
   "source": [
    "## Wrangling"
   ]
  },
  {
   "cell_type": "code",
   "execution_count": 2,
   "id": "bf99ff05",
   "metadata": {},
   "outputs": [],
   "source": [
    "folder_path = os.path.dirname(os.getcwd()) + \"/data/tourism/palau/\"\n",
    "file_path = folder_path + os.listdir(folder_path)[0]"
   ]
  },
  {
   "cell_type": "code",
   "execution_count": 3,
   "id": "349d91f9",
   "metadata": {},
   "outputs": [],
   "source": [
    "palau = pd.read_excel(file_path, sheet_name=\"TabMth\")\n",
    "palau = palau.iloc[0:-1].reset_index().drop(\"index\", axis=1)\n",
    "palau.columns = palau.iloc[0]\n",
    "palau = palau.iloc[1:].T\n",
    "palau = palau.reset_index()\n",
    "palau.columns = palau.iloc[0]\n",
    "palau = (palau.rename({\"Country Group\": \"Date\"}, axis=1)\n",
    "         .iloc[1:]\n",
    "         .reset_index()\n",
    "         .drop(\"index\", axis=1))"
   ]
  },
  {
   "cell_type": "code",
   "execution_count": 4,
   "id": "e7d2f8e2",
   "metadata": {
    "scrolled": true
   },
   "outputs": [
    {
     "data": {
      "text/html": [
       "<div>\n",
       "<style scoped>\n",
       "    .dataframe tbody tr th:only-of-type {\n",
       "        vertical-align: middle;\n",
       "    }\n",
       "\n",
       "    .dataframe tbody tr th {\n",
       "        vertical-align: top;\n",
       "    }\n",
       "\n",
       "    .dataframe thead th {\n",
       "        text-align: right;\n",
       "    }\n",
       "</style>\n",
       "<table border=\"1\" class=\"dataframe\">\n",
       "  <thead>\n",
       "    <tr style=\"text-align: right;\">\n",
       "      <th></th>\n",
       "      <th>Date</th>\n",
       "      <th>JAPAN</th>\n",
       "      <th>SOUTH KOREA</th>\n",
       "      <th>TAIWAN</th>\n",
       "      <th>CHINA</th>\n",
       "      <th>USA/CANADA</th>\n",
       "      <th>EUROPE</th>\n",
       "      <th>OTHERS</th>\n",
       "      <th>Total</th>\n",
       "    </tr>\n",
       "  </thead>\n",
       "  <tbody>\n",
       "    <tr>\n",
       "      <th>0</th>\n",
       "      <td>2007-06-01</td>\n",
       "      <td>856.0</td>\n",
       "      <td>1291.0</td>\n",
       "      <td>3245.0</td>\n",
       "      <td>86.0</td>\n",
       "      <td>669.0</td>\n",
       "      <td>99.0</td>\n",
       "      <td>463.0</td>\n",
       "      <td>6709.0</td>\n",
       "    </tr>\n",
       "    <tr>\n",
       "      <th>1</th>\n",
       "      <td>2007-07-01</td>\n",
       "      <td>2119.0</td>\n",
       "      <td>1366.0</td>\n",
       "      <td>3269.0</td>\n",
       "      <td>33.0</td>\n",
       "      <td>653.0</td>\n",
       "      <td>144.0</td>\n",
       "      <td>437.0</td>\n",
       "      <td>8021.0</td>\n",
       "    </tr>\n",
       "    <tr>\n",
       "      <th>2</th>\n",
       "      <td>2007-08-01</td>\n",
       "      <td>3476.0</td>\n",
       "      <td>1354.0</td>\n",
       "      <td>3046.0</td>\n",
       "      <td>46.0</td>\n",
       "      <td>580.0</td>\n",
       "      <td>256.0</td>\n",
       "      <td>438.0</td>\n",
       "      <td>9196.0</td>\n",
       "    </tr>\n",
       "    <tr>\n",
       "      <th>3</th>\n",
       "      <td>2007-09-01</td>\n",
       "      <td>3022.0</td>\n",
       "      <td>910.0</td>\n",
       "      <td>2497.0</td>\n",
       "      <td>61.0</td>\n",
       "      <td>559.0</td>\n",
       "      <td>145.0</td>\n",
       "      <td>401.0</td>\n",
       "      <td>7595.0</td>\n",
       "    </tr>\n",
       "    <tr>\n",
       "      <th>4</th>\n",
       "      <td>2007-10-01</td>\n",
       "      <td>1807.0</td>\n",
       "      <td>1082.0</td>\n",
       "      <td>2298.0</td>\n",
       "      <td>49.0</td>\n",
       "      <td>774.0</td>\n",
       "      <td>390.0</td>\n",
       "      <td>395.0</td>\n",
       "      <td>6795.0</td>\n",
       "    </tr>\n",
       "  </tbody>\n",
       "</table>\n",
       "</div>"
      ],
      "text/plain": [
       "0       Date   JAPAN  SOUTH KOREA  TAIWAN  CHINA  USA/CANADA  EUROPE  OTHERS  \\\n",
       "0 2007-06-01   856.0       1291.0  3245.0   86.0       669.0    99.0   463.0   \n",
       "1 2007-07-01  2119.0       1366.0  3269.0   33.0       653.0   144.0   437.0   \n",
       "2 2007-08-01  3476.0       1354.0  3046.0   46.0       580.0   256.0   438.0   \n",
       "3 2007-09-01  3022.0        910.0  2497.0   61.0       559.0   145.0   401.0   \n",
       "4 2007-10-01  1807.0       1082.0  2298.0   49.0       774.0   390.0   395.0   \n",
       "\n",
       "0   Total  \n",
       "0  6709.0  \n",
       "1  8021.0  \n",
       "2  9196.0  \n",
       "3  7595.0  \n",
       "4  6795.0  "
      ]
     },
     "execution_count": 4,
     "metadata": {},
     "output_type": "execute_result"
    }
   ],
   "source": [
    "# Change the data format\n",
    "palau[\"Date\"] = pd.to_datetime(palau[\"Date\"])\n",
    "for col in palau.columns[~palau.columns.isin([\"Date\"])]:\n",
    "    palau[col] = palau[col].astype(float)\n",
    "\n",
    "\n",
    "palau.to_csv(folder_path + \"palau_monthly_visitor.csv\",\n",
    "             encoding=\"utf-8\")\n",
    "palau.head(5)"
   ]
  },
  {
   "cell_type": "markdown",
   "id": "29bf715d",
   "metadata": {},
   "source": [
    "## Bokeh Visualization"
   ]
  },
  {
   "cell_type": "code",
   "execution_count": 5,
   "id": "108697b5",
   "metadata": {},
   "outputs": [],
   "source": [
    "from bokeh.palettes import Category20\n",
    "from bokeh.plotting import figure, show, output_file\n",
    "from bokeh.models import ColumnDataSource, HoverTool, Legend\n",
    "\n",
    "\n",
    "output_file('palau_month_by_country.html')\n",
    "p = figure(height=600, width=1000,\n",
    "           title=\"Number of Passengers Per Month\",\n",
    "           x_axis_type=\"datetime\",\n",
    "           x_axis_label=\"Date\",\n",
    "           y_axis_label=\"Number of Passengers Per Month\",\n",
    "           tooltips=[(\"Country\", \"$name\"),\n",
    "                     (\"Passenger per month\", \"@$name\")])\n",
    "\n",
    "countries = palau.columns[~palau.columns.isin([\"Date\", \"Total\"])].to_list()\n",
    "p.add_layout(Legend(), 'right')\n",
    "source = ColumnDataSource(palau)\n",
    "\n",
    "for country, color in zip(countries, Category20[12]):\n",
    "    # have to use different colnames for y-coords so tooltip can refer to @$name\n",
    "    p.line('Date', country, source=source, name=country,\n",
    "           legend_label=country, color=color)\n",
    "\n",
    "p.legend.label_text_font_size = '9pt'\n",
    "p.legend.click_policy = \"mute\"\n",
    "p.legend.location = \"top_left\"\n",
    "\n",
    "show(p)"
   ]
  },
  {
   "cell_type": "markdown",
   "id": "b2767fdd",
   "metadata": {},
   "source": [
    "## Correlation"
   ]
  },
  {
   "cell_type": "code",
   "execution_count": 5,
   "id": "45f55c96",
   "metadata": {},
   "outputs": [],
   "source": [
    "folder = os.path.dirname(os.getcwd()) + \"/data/tourism/\"\n",
    "flights = os.path.dirname(os.getcwd()) + \"/data/tourism/aviation_seats_flights_pic.xlsx\""
   ]
  },
  {
   "cell_type": "code",
   "execution_count": 6,
   "id": "86aae843",
   "metadata": {},
   "outputs": [],
   "source": [
    "df = pd.read_excel(flights)\n",
    "df = (df[(df.Country == \"Palau\") & (df.Aircraft_type == \"passenger\")]\n",
    "      .reset_index()\n",
    "      .drop(\"index\", axis=1)\n",
    "      [[\"Date\", \"Seats_arrivals_intl\", \"Seats_arrivals_total\", \"Number_of_flights_intl\", \"Number_of_flights_total\"]])\n",
    "\n",
    "df[\"Date\"] = pd.to_datetime(df[\"Date\"])\n",
    "\n",
    "range_df = pd.DataFrame(pd.date_range(\n",
    "    start='2019-01-01', end='2022-10-16'), columns=[\"Date\"])\n",
    "df = range_df.merge(df, on=\"Date\", how=\"left\")\n",
    "df[\"Month\"], df[\"Year\"] = df[\"Date\"].dt.month, df[\"Date\"].dt.year"
   ]
  },
  {
   "cell_type": "code",
   "execution_count": 7,
   "id": "494f9a89",
   "metadata": {
    "scrolled": false
   },
   "outputs": [],
   "source": [
    "palau_ma = df.groupby(by=[\"Year\", \"Month\"]).sum()[:-1]\n",
    "palau_19_22 = palau[palau.Date >=\n",
    "                    \"2019-01-01\"].reset_index().drop(\"index\", axis=1)"
   ]
  },
  {
   "cell_type": "code",
   "execution_count": 14,
   "id": "ef62014d",
   "metadata": {
    "scrolled": true
   },
   "outputs": [
    {
     "name": "stdout",
     "output_type": "stream",
     "text": [
      "Pearson Correlation between FlightRadar's Seats Arrival and Palau's census data is 0.9710. \n",
      " Pearson Correlation between FlightRadar's # Of Flights Arrival and Palau's census data is 0.9699.\n"
     ]
    }
   ],
   "source": [
    "from scipy.stats import pearsonr\n",
    "\n",
    "corr_seats, _ = pearsonr(palau_ma[\"Seats_arrivals_total\"], palau_19_22[\"Total\"])\n",
    "corr_seat_flight, _ = pearsonr(palau_ma[\"Number_of_flights_total\"], palau_19_22[\"Total\"])\n",
    "print(f\"Pearson Correlation between FlightRadar's Seats Arrival and Palau's census data is{corr_seats: .4f}.\", \"\\n\", \n",
    "    f\"Pearson Correlation between FlightRadar's # Of Flights Arrival and Palau's census data is{corr_seat_flight: .4f}.\")"
   ]
  },
  {
   "cell_type": "code",
   "execution_count": 10,
   "id": "772511b6",
   "metadata": {
    "scrolled": false
   },
   "outputs": [],
   "source": [
    "palau_ma_cor = palau_ma[[\"Seats_arrivals_total\", \"Number_of_flights_total\"]].reset_index().drop([\n",
    "    \"Year\", \"Month\"], axis=1)\n",
    "viz_df = pd.concat([palau_ma_cor, palau_19_22[\"Total\"]], axis=1)"
   ]
  },
  {
   "cell_type": "code",
   "execution_count": 12,
   "id": "1940dde9",
   "metadata": {},
   "outputs": [
    {
     "data": {
      "text/html": [
       "<div>\n",
       "<style scoped>\n",
       "    .dataframe tbody tr th:only-of-type {\n",
       "        vertical-align: middle;\n",
       "    }\n",
       "\n",
       "    .dataframe tbody tr th {\n",
       "        vertical-align: top;\n",
       "    }\n",
       "\n",
       "    .dataframe thead th {\n",
       "        text-align: right;\n",
       "    }\n",
       "</style>\n",
       "<table border=\"1\" class=\"dataframe\">\n",
       "  <thead>\n",
       "    <tr style=\"text-align: right;\">\n",
       "      <th></th>\n",
       "      <th>Seats_arrivals_total</th>\n",
       "      <th>Number_of_flights_total</th>\n",
       "      <th>Total</th>\n",
       "    </tr>\n",
       "  </thead>\n",
       "  <tbody>\n",
       "    <tr>\n",
       "      <th>Seats_arrivals_total</th>\n",
       "      <td>1.000000</td>\n",
       "      <td>0.997722</td>\n",
       "      <td>0.970974</td>\n",
       "    </tr>\n",
       "    <tr>\n",
       "      <th>Number_of_flights_total</th>\n",
       "      <td>0.997722</td>\n",
       "      <td>1.000000</td>\n",
       "      <td>0.969860</td>\n",
       "    </tr>\n",
       "    <tr>\n",
       "      <th>Total</th>\n",
       "      <td>0.970974</td>\n",
       "      <td>0.969860</td>\n",
       "      <td>1.000000</td>\n",
       "    </tr>\n",
       "  </tbody>\n",
       "</table>\n",
       "</div>"
      ],
      "text/plain": [
       "                         Seats_arrivals_total  Number_of_flights_total  \\\n",
       "Seats_arrivals_total                 1.000000                 0.997722   \n",
       "Number_of_flights_total              0.997722                 1.000000   \n",
       "Total                                0.970974                 0.969860   \n",
       "\n",
       "                            Total  \n",
       "Seats_arrivals_total     0.970974  \n",
       "Number_of_flights_total  0.969860  \n",
       "Total                    1.000000  "
      ]
     },
     "execution_count": 12,
     "metadata": {},
     "output_type": "execute_result"
    }
   ],
   "source": [
    "matrix = viz_df.corr(method='pearson')\n",
    "matrix"
   ]
  }
 ],
 "metadata": {
  "kernelspec": {
   "display_name": "Python 3 (ipykernel)",
   "language": "python",
   "name": "python3"
  },
  "language_info": {
   "codemirror_mode": {
    "name": "ipython",
    "version": 3
   },
   "file_extension": ".py",
   "mimetype": "text/x-python",
   "name": "python",
   "nbconvert_exporter": "python",
   "pygments_lexer": "ipython3",
   "version": "3.9.10"
  },
  "toc": {
   "base_numbering": 1,
   "nav_menu": {},
   "number_sections": true,
   "sideBar": true,
   "skip_h1_title": false,
   "title_cell": "Table of Contents",
   "title_sidebar": "Contents",
   "toc_cell": false,
   "toc_position": {},
   "toc_section_display": true,
   "toc_window_display": false
  }
 },
 "nbformat": 4,
 "nbformat_minor": 5
}
